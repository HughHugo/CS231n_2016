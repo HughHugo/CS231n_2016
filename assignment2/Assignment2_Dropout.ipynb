{
 "cells": [
  {
   "cell_type": "markdown",
   "metadata": {},
   "source": [
    "# Dropout"
   ]
  },
  {
   "cell_type": "code",
   "execution_count": 1,
   "metadata": {
    "scrolled": true
   },
   "outputs": [],
   "source": [
    "import time\n",
    "import numpy as np\n",
    "import matplotlib.pyplot as plt\n",
    "from cs231n.classifiers.fc_net import *\n",
    "from cs231n.data_utils import get_CIFAR10_data\n",
    "from cs231n.gradient_check import eval_numerical_gradient, eval_numerical_gradient_array\n",
    "from cs231n.solver import Solver\n",
    "\n",
    "%matplotlib inline\n",
    "plt.rcParams['figure.figsize'] = (10.0, 8.0) # set default size of plots\n",
    "plt.rcParams['image.interpolation'] = 'nearest'\n",
    "plt.rcParams['image.cmap'] = 'gray'\n",
    "\n",
    "# for auto-reloading external modules\n",
    "# see http://stackoverflow.com/questions/1907993/autoreload-of-modules-in-ipython\n",
    "%load_ext autoreload\n",
    "%autoreload 2\n",
    "\n",
    "def rel_error(x, y):\n",
    "  \"\"\" returns relative error \"\"\"\n",
    "  return np.max(np.abs(x - y) / (np.maximum(1e-8, np.abs(x) + np.abs(y))))"
   ]
  },
  {
   "cell_type": "code",
   "execution_count": 2,
   "metadata": {
    "scrolled": true
   },
   "outputs": [
    {
     "name": "stdout",
     "output_type": "stream",
     "text": [
      "x_test:  (1000, 3, 32, 32)\n",
      "y_train:  (49000,)\n",
      "y_val:  (1000,)\n",
      "x_val:  (1000, 3, 32, 32)\n",
      "x_train:  (49000, 3, 32, 32)\n",
      "y_test:  (1000,)\n"
     ]
    }
   ],
   "source": [
    "# Load the (preprocessed) CIFAR10 data\n",
    "\n",
    "data = get_CIFAR10_data()\n",
    "for k, v in data.items():\n",
    "    print(\"%s: \" % k, v.shape)"
   ]
  },
  {
   "cell_type": "markdown",
   "metadata": {},
   "source": [
    "## Dropout forward pass"
   ]
  },
  {
   "cell_type": "code",
   "execution_count": 3,
   "metadata": {},
   "outputs": [
    {
     "name": "stdout",
     "output_type": "stream",
     "text": [
      "Running tests with p =  0.3\n",
      "Mean of input:  9.99992630486\n",
      "Mean of train-time output:  9.96879152229\n",
      "Mean of test-time output:  9.99992630486\n",
      "Fraction of train-time output set to zero:  0.700816\n",
      "Fraction of test-time output set to zero:  0.0\n",
      "Running tests with p =  0.6\n",
      "Mean of input:  9.99992630486\n",
      "Mean of train-time output:  10.0205355282\n",
      "Mean of test-time output:  9.99992630486\n",
      "Fraction of train-time output set to zero:  0.398788\n",
      "Fraction of test-time output set to zero:  0.0\n",
      "Running tests with p =  0.75\n",
      "Mean of input:  9.99992630486\n",
      "Mean of train-time output:  10.0010142294\n",
      "Mean of test-time output:  9.99992630486\n",
      "Fraction of train-time output set to zero:  0.249968\n",
      "Fraction of test-time output set to zero:  0.0\n"
     ]
    }
   ],
   "source": [
    "x = np.random.randn(500, 500) + 10\n",
    "\n",
    "for p in[0.3, 0.6, 0.75]:\n",
    "    out, _ = dropout_forward(x, {'mode':'train', 'p': p})\n",
    "    out_test, _ = dropout_forward(x, {'mode': 'test', 'p': p})\n",
    "    \n",
    "    print('Running tests with p = ', p)\n",
    "    print('Mean of input: ', x.mean())\n",
    "    print('Mean of train-time output: ', out.mean())\n",
    "    print('Mean of test-time output: ', out_test.mean())\n",
    "    print('Fraction of train-time output set to zero: ', (out == 0).mean())\n",
    "    print('Fraction of test-time output set to zero: ', (out_test == 0).mean())"
   ]
  },
  {
   "cell_type": "markdown",
   "metadata": {
    "collapsed": true
   },
   "source": [
    "## Dropout backward pass"
   ]
  },
  {
   "cell_type": "code",
   "execution_count": 4,
   "metadata": {},
   "outputs": [
    {
     "name": "stdout",
     "output_type": "stream",
     "text": [
      "dx relative error:  5.44560625229e-11\n"
     ]
    }
   ],
   "source": [
    "x = np.random.randn(10, 10) + 10\n",
    "dout = np.random.randn(*x.shape)\n",
    "\n",
    "dropout_param = {'mode': 'train', 'p': 0.8, 'seed': 123}\n",
    "out, cache = dropout_forward(x, dropout_param)\n",
    "dx = dropout_backward(dout, cache)\n",
    "dx_num = eval_numerical_gradient_array(lambda xx: dropout_forward(xx, dropout_param)[0], x, dout)\n",
    "\n",
    "print('dx relative error: ', rel_error(dx, dx_num))"
   ]
  },
  {
   "cell_type": "markdown",
   "metadata": {},
   "source": [
    "## Fully-cennected nets with Dropout"
   ]
  },
  {
   "cell_type": "code",
   "execution_count": 5,
   "metadata": {},
   "outputs": [
    {
     "name": "stdout",
     "output_type": "stream",
     "text": [
      "Running check with dropout =  0\n",
      "Initial loss:  2.3051948274\n",
      "W1 relative error: 2.53e-07\n",
      "W2 relative error: 1.50e-05\n",
      "W3 relative error: 2.75e-07\n",
      "b1 relative error: 2.94e-06\n",
      "b2 relative error: 5.05e-08\n",
      "b3 relative error: 1.17e-10\n",
      "Running check with dropout =  0.25\n",
      "Initial loss:  2.31264683457\n",
      "W1 relative error: 1.48e-08\n",
      "W2 relative error: 2.34e-10\n",
      "W3 relative error: 3.56e-08\n",
      "b1 relative error: 1.53e-09\n",
      "b2 relative error: 1.84e-10\n",
      "b3 relative error: 8.70e-11\n",
      "Running check with dropout =  0.5\n",
      "Initial loss:  2.30243758771\n",
      "W1 relative error: 4.55e-08\n",
      "W2 relative error: 2.97e-08\n",
      "W3 relative error: 4.34e-07\n",
      "b1 relative error: 1.87e-08\n",
      "b2 relative error: 5.05e-09\n",
      "b3 relative error: 7.49e-11\n"
     ]
    }
   ],
   "source": [
    "N, D, H1, H2, C = 2, 15, 20, 30, 10\n",
    "x = np.random.randn(N, D)\n",
    "y = np.random.randint(C, size = (N, ))\n",
    "\n",
    "for dropout in [0, 0.25, 0.5]:\n",
    "    print('Running check with dropout = ', dropout)\n",
    "    model = FullyConnectedNet([H1, H2], input_dim = D, num_classes = C, weight_scale = 5e-2, \n",
    "                             dtype = np.float64, dropout = dropout, seed = 123)\n",
    "    loss, grads = model.loss(x, y)\n",
    "    print('Initial loss: ', loss)\n",
    "    \n",
    "    for name in sorted(grads):\n",
    "        f = lambda _: model.loss(x, y)[0]\n",
    "        grad_num = eval_numerical_gradient(f, model.params[name], verbose = False, h = 1e-5)\n",
    "        print('%s relative error: %.2e' % (name, rel_error(grad_num, grads[name])))"
   ]
  },
  {
   "cell_type": "markdown",
   "metadata": {},
   "source": [
    "## Regularization experiment"
   ]
  },
  {
   "cell_type": "code",
   "execution_count": 6,
   "metadata": {
    "scrolled": true
   },
   "outputs": [
    {
     "name": "stdout",
     "output_type": "stream",
     "text": [
      "Net with dropout =  0\n",
      "(Iteration 1 / 250) loss: 8.365677\n",
      "(Epoch 0 /25) train acc: 0.174000; val_acc: 0.173000\n",
      "(Epoch 1 /25) train acc: 0.421000; val_acc: 0.291000\n",
      "(Epoch 2 /25) train acc: 0.538000; val_acc: 0.286000\n",
      "(Epoch 3 /25) train acc: 0.672000; val_acc: 0.321000\n",
      "(Epoch 4 /25) train acc: 0.784000; val_acc: 0.298000\n",
      "(Epoch 5 /25) train acc: 0.832000; val_acc: 0.317000\n",
      "(Epoch 6 /25) train acc: 0.885000; val_acc: 0.316000\n",
      "(Epoch 7 /25) train acc: 0.914000; val_acc: 0.345000\n",
      "(Epoch 8 /25) train acc: 0.951000; val_acc: 0.333000\n",
      "(Epoch 9 /25) train acc: 0.978000; val_acc: 0.335000\n",
      "(Epoch 10 /25) train acc: 0.976000; val_acc: 0.336000\n",
      "(Iteration 101 / 250) loss: 0.054725\n",
      "(Epoch 11 /25) train acc: 0.997000; val_acc: 0.336000\n",
      "(Epoch 12 /25) train acc: 0.997000; val_acc: 0.343000\n",
      "(Epoch 13 /25) train acc: 0.998000; val_acc: 0.326000\n",
      "(Epoch 14 /25) train acc: 1.000000; val_acc: 0.346000\n",
      "(Epoch 15 /25) train acc: 0.999000; val_acc: 0.344000\n",
      "(Epoch 16 /25) train acc: 1.000000; val_acc: 0.345000\n",
      "(Epoch 17 /25) train acc: 1.000000; val_acc: 0.353000\n",
      "(Epoch 18 /25) train acc: 1.000000; val_acc: 0.341000\n",
      "(Epoch 19 /25) train acc: 1.000000; val_acc: 0.352000\n",
      "(Epoch 20 /25) train acc: 1.000000; val_acc: 0.353000\n",
      "(Iteration 201 / 250) loss: 0.007810\n",
      "(Epoch 21 /25) train acc: 1.000000; val_acc: 0.352000\n",
      "(Epoch 22 /25) train acc: 1.000000; val_acc: 0.353000\n",
      "(Epoch 23 /25) train acc: 1.000000; val_acc: 0.355000\n",
      "(Epoch 24 /25) train acc: 1.000000; val_acc: 0.354000\n",
      "(Epoch 25 /25) train acc: 1.000000; val_acc: 0.355000\n",
      "Net with dropout =  0.5\n",
      "(Iteration 1 / 250) loss: 13.307531\n",
      "(Epoch 0 /25) train acc: 0.163000; val_acc: 0.147000\n",
      "(Epoch 1 /25) train acc: 0.343000; val_acc: 0.247000\n",
      "(Epoch 2 /25) train acc: 0.467000; val_acc: 0.289000\n",
      "(Epoch 3 /25) train acc: 0.571000; val_acc: 0.307000\n",
      "(Epoch 4 /25) train acc: 0.619000; val_acc: 0.308000\n",
      "(Epoch 5 /25) train acc: 0.679000; val_acc: 0.312000\n",
      "(Epoch 6 /25) train acc: 0.744000; val_acc: 0.325000\n",
      "(Epoch 7 /25) train acc: 0.774000; val_acc: 0.331000\n",
      "(Epoch 8 /25) train acc: 0.785000; val_acc: 0.313000\n",
      "(Epoch 9 /25) train acc: 0.834000; val_acc: 0.341000\n",
      "(Epoch 10 /25) train acc: 0.846000; val_acc: 0.326000\n",
      "(Iteration 101 / 250) loss: 1.498336\n",
      "(Epoch 11 /25) train acc: 0.850000; val_acc: 0.344000\n",
      "(Epoch 12 /25) train acc: 0.890000; val_acc: 0.344000\n",
      "(Epoch 13 /25) train acc: 0.895000; val_acc: 0.334000\n",
      "(Epoch 14 /25) train acc: 0.916000; val_acc: 0.359000\n",
      "(Epoch 15 /25) train acc: 0.915000; val_acc: 0.342000\n",
      "(Epoch 16 /25) train acc: 0.935000; val_acc: 0.359000\n",
      "(Epoch 17 /25) train acc: 0.939000; val_acc: 0.337000\n",
      "(Epoch 18 /25) train acc: 0.934000; val_acc: 0.352000\n",
      "(Epoch 19 /25) train acc: 0.944000; val_acc: 0.357000\n",
      "(Epoch 20 /25) train acc: 0.964000; val_acc: 0.350000\n",
      "(Iteration 201 / 250) loss: 0.978200\n",
      "(Epoch 21 /25) train acc: 0.949000; val_acc: 0.340000\n",
      "(Epoch 22 /25) train acc: 0.960000; val_acc: 0.339000\n",
      "(Epoch 23 /25) train acc: 0.974000; val_acc: 0.343000\n",
      "(Epoch 24 /25) train acc: 0.969000; val_acc: 0.341000\n",
      "(Epoch 25 /25) train acc: 0.973000; val_acc: 0.343000\n"
     ]
    }
   ],
   "source": [
    "# Train two identical nets, one with dropout and one without.\n",
    "\n",
    "num_train = 1000\n",
    "small_data = {\n",
    "  'x_train': data['x_train'][:num_train],\n",
    "  'y_train': data['y_train'][:num_train],\n",
    "  'x_val': data['x_val'],\n",
    "  'y_val': data['y_val'],\n",
    "}\n",
    "\n",
    "solvers = {}\n",
    "dropout_choices = [0, 0.5]\n",
    "for dropout in dropout_choices:\n",
    "    model = FullyConnectedNet([500], dropout = dropout)\n",
    "    print('Net with dropout = ', dropout)\n",
    "    \n",
    "    solver = Solver(model, small_data, num_epochs = 25, batch_size = 100, update_rule = 'adam', \n",
    "                   optim_config = {'learning_rate': 1e-4}, verbose = True, print_every = 100)\n",
    "    solver.train()\n",
    "    solvers[dropout] = solver"
   ]
  },
  {
   "cell_type": "code",
   "execution_count": 7,
   "metadata": {},
   "outputs": [
    {
     "data": {
      "image/png": "[encoded data removed]",
      "text/plain": [
       "<matplotlib.figure.Figure at 0x7fe3c45a3cc0>"
      ]
     },
     "metadata": {},
     "output_type": "display_data"
    }
   ],
   "source": [
    "# Plot train and validation accuracies of the two models\n",
    "\n",
    "train_accs = []\n",
    "val_accs = []\n",
    "for dropout in dropout_choices:\n",
    "    solver = solvers[dropout]\n",
    "    train_accs.append(solver.train_acc_history[-1])\n",
    "    val_accs.append(solver.val_acc_history[-1])\n",
    "\n",
    "plt.subplot(3, 1, 1)\n",
    "for dropout in dropout_choices:\n",
    "    plt.plot(solvers[dropout].train_acc_history, 'o', label='%.2f dropout' % dropout)\n",
    "plt.title('Train accuracy')\n",
    "plt.xlabel('Epoch')\n",
    "plt.ylabel('Accuracy')\n",
    "plt.legend(ncol=2, loc='lower right')\n",
    "  \n",
    "plt.subplot(3, 1, 2)\n",
    "for dropout in dropout_choices:\n",
    "    plt.plot(solvers[dropout].val_acc_history, 'o', label='%.2f dropout' % dropout)\n",
    "plt.title('Val accuracy')\n",
    "plt.xlabel('Epoch')\n",
    "plt.ylabel('Accuracy')\n",
    "plt.legend(ncol=2, loc='lower right')\n",
    "\n",
    "plt.gcf().set_size_inches(15, 15)\n",
    "plt.show()"
   ]
  }
 ],
 "metadata": {
  "kernelspec": {
   "display_name": "Python 3",
   "language": "python",
   "name": "python3"
  },
  "language_info": {
   "codemirror_mode": {
    "name": "ipython",
    "version": 3
   },
   "file_extension": ".py",
   "mimetype": "text/x-python",
   "name": "python",
   "nbconvert_exporter": "python",
   "pygments_lexer": "ipython3",
   "version": "3.5.2"
  }
 },
 "nbformat": 4,
 "nbformat_minor": 2
}
